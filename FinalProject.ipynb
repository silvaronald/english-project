{
  "cells": [
    {
      "cell_type": "markdown",
      "metadata": {
        "id": "_4TpgzWBw8on"
      },
      "source": [
        "# Importing..."
      ]
    },
    {
      "cell_type": "markdown",
      "metadata": {
        "id": "ge5FUw0KxAD1"
      },
      "source": [
        "## Libraries"
      ]
    },
    {
      "cell_type": "code",
      "execution_count": 6,
      "metadata": {},
      "outputs": [
        {
          "ename": "ModuleNotFoundError",
          "evalue": "No module named 'fastbook'",
          "output_type": "error",
          "traceback": [
            "\u001b[0;31m---------------------------------------------------------------------------\u001b[0m",
            "\u001b[0;31mModuleNotFoundError\u001b[0m                       Traceback (most recent call last)",
            "Cell \u001b[0;32mIn [6], line 3\u001b[0m\n\u001b[1;32m      1\u001b[0m \u001b[39m#hide\u001b[39;00m\n\u001b[1;32m      2\u001b[0m get_ipython()\u001b[39m.\u001b[39msystem(\u001b[39m'\u001b[39m\u001b[39m [ -e /content ] && pip install -Uqq fastbook\u001b[39m\u001b[39m'\u001b[39m)\n\u001b[0;32m----> 3\u001b[0m \u001b[39mimport\u001b[39;00m \u001b[39mfastbook\u001b[39;00m\n\u001b[1;32m      4\u001b[0m fastbook\u001b[39m.\u001b[39msetup_book()\n",
            "\u001b[0;31mModuleNotFoundError\u001b[0m: No module named 'fastbook'"
          ]
        }
      ],
      "source": [
        "#hide\n",
        "! [ -e /content ] && pip install -Uqq fastbook\n",
        "import fastbook\n",
        "fastbook.setup_book()"
      ]
    },
    {
      "cell_type": "code",
      "execution_count": null,
      "metadata": {
        "id": "A5x_0r5awyx6"
      },
      "outputs": [],
      "source": [
        "from fastbook import *\n",
        "from fastai.vision.widgets import *"
      ]
    },
    {
      "cell_type": "markdown",
      "metadata": {
        "id": "0gSJRqCuxIkn"
      },
      "source": [
        "## Pkl file from the mini project"
      ]
    },
    {
      "cell_type": "code",
      "execution_count": null,
      "metadata": {
        "id": "IullXYG_xPKY"
      },
      "outputs": [
        {
          "ename": "NameError",
          "evalue": "name 'Path' is not defined",
          "output_type": "error",
          "traceback": [
            "\u001b[0;31m---------------------------------------------------------------------------\u001b[0m",
            "\u001b[0;31mNameError\u001b[0m                                 Traceback (most recent call last)",
            "Cell \u001b[0;32mIn [4], line 1\u001b[0m\n\u001b[0;32m----> 1\u001b[0m path \u001b[39m=\u001b[39m Path()\n\u001b[1;32m      2\u001b[0m model \u001b[39m=\u001b[39m load_learner(path\u001b[39m/\u001b[39m\u001b[39m'\u001b[39m\u001b[39mexport.pkl\u001b[39m\u001b[39m'\u001b[39m)\n",
            "\u001b[0;31mNameError\u001b[0m: name 'Path' is not defined"
          ]
        }
      ],
      "source": [
        "path = Path()\n",
        "model = load_learner(path/'export.pkl')"
      ]
    },
    {
      "cell_type": "markdown",
      "metadata": {
        "id": "2TJZLF9Hxe_V"
      },
      "source": [
        "# Building the graphical interface"
      ]
    },
    {
      "cell_type": "code",
      "execution_count": null,
      "metadata": {
        "id": "hlq_pPMNxjmt"
      },
      "outputs": [],
      "source": [
        "# Widgets\n",
        "upload = widgets.FileUpload()\n",
        "output = widgets.Output()\n",
        "label = widgets.Label()\n",
        "\n",
        "# Function to get the user's input and run it through the model\n",
        "def predicting(img_input):\n",
        "  image = PILImage.create(button.data[-1])\n",
        "  output.clear_output()\n",
        "  with output:\n",
        "    display(image.to_thumb(300, 300))\n",
        "\n",
        "  label_pred, index_pred, prob = model.predict(image)\n",
        "\n",
        "  label.value = f\"Hmmm, i'm {prob[index_pred]*100:.02f}% certain this is a {label_pred}!!\"\n",
        "\n",
        "# Resets input field\n",
        "if(button._counter != 0 ):\n",
        "  button = widgets.FileUpload()\n",
        "\n",
        "button.observe(predicting, names=['data'])\n",
        "\n",
        "\n",
        "display(VBox([widgets.Label(\"Place in a capivara, preá or pacarana:\"), button, output, label]))\n",
        "\n"
      ]
    }
  ],
  "metadata": {
    "colab": {
      "provenance": []
    },
    "kernelspec": {
      "display_name": "Python 3.10.6 64-bit",
      "language": "python",
      "name": "python3"
    },
    "language_info": {
      "codemirror_mode": {
        "name": "ipython",
        "version": 3
      },
      "file_extension": ".py",
      "mimetype": "text/x-python",
      "name": "python",
      "nbconvert_exporter": "python",
      "pygments_lexer": "ipython3",
      "version": "3.10.6"
    },
    "vscode": {
      "interpreter": {
        "hash": "916dbcbb3f70747c44a77c7bcd40155683ae19c65e1c03b4aa3499c5328201f1"
      }
    }
  },
  "nbformat": 4,
  "nbformat_minor": 0
}
