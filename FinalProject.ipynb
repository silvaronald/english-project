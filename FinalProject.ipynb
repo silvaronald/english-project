{
  "nbformat": 4,
  "nbformat_minor": 0,
  "metadata": {
    "colab": {
      "provenance": []
    },
    "kernelspec": {
      "name": "python3",
      "display_name": "Python 3"
    },
    "language_info": {
      "name": "python"
    }
  },
  "cells": [
    {
      "cell_type": "markdown",
      "source": [
        "# Importing..."
      ],
      "metadata": {
        "id": "_4TpgzWBw8on"
      }
    },
    {
      "cell_type": "markdown",
      "source": [
        "## Libraries"
      ],
      "metadata": {
        "id": "ge5FUw0KxAD1"
      }
    },
    {
      "cell_type": "code",
      "execution_count": null,
      "metadata": {
        "id": "A5x_0r5awyx6"
      },
      "outputs": [],
      "source": [
        "from fastbook import *\n",
        "from fastai.vision.widgets import *"
      ]
    },
    {
      "cell_type": "markdown",
      "source": [
        "## Pkl file from the mini project"
      ],
      "metadata": {
        "id": "0gSJRqCuxIkn"
      }
    },
    {
      "cell_type": "code",
      "source": [
        "path = Path()\n",
        "model = load_learner(path/'export.pkl')"
      ],
      "metadata": {
        "id": "IullXYG_xPKY"
      },
      "execution_count": null,
      "outputs": []
    },
    {
      "cell_type": "markdown",
      "source": [
        "# Building the graphical interface"
      ],
      "metadata": {
        "id": "2TJZLF9Hxe_V"
      }
    },
    {
      "cell_type": "code",
      "source": [
        "# Widgets\n",
        "upload = widgets.FileUpload()\n",
        "output = widgets.Output()\n",
        "label = widgets.Label()\n",
        "\n",
        "# Function to get the user's input and run it through the model\n",
        "def predicting(img_input):\n",
        "  image = PILImage.create(button.data[-1])\n",
        "  output.clear_output()\n",
        "  with output:\n",
        "    display(image.to_thumb(300, 300))\n",
        "\n",
        "  label_pred, index_pred, prob = model.predict(image)\n",
        "\n",
        "  label.value = f\"Hmmm, i'm {prob[index_pred]*100:.02f}% certain this is a {label_pred}!!\"\n",
        "\n",
        "# Resets input field\n",
        "if(button._counter != 0 ):\n",
        "  button = widgets.FileUpload()\n",
        "\n",
        "button.observe(predicting, names=['data'])\n",
        "\n",
        "\n",
        "display(VBox([widgets.Label(\"Place in a capivara, preá or pacarana:\"), button, output, label]))\n",
        "\n"
      ],
      "metadata": {
        "id": "hlq_pPMNxjmt"
      },
      "execution_count": null,
      "outputs": []
    }
  ]
}